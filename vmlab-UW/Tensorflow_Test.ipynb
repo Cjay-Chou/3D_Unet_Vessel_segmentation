{
 "cells": [
  {
   "cell_type": "code",
   "execution_count": 4,
   "metadata": {},
   "outputs": [],
   "source": [
    "import tensorflow as tf\n",
    "import SimpleITK as sitk\n",
    "import os\n"
   ]
  },
  {
   "cell_type": "code",
   "execution_count": 26,
   "metadata": {},
   "outputs": [
    {
     "data": {
      "text/plain": [
       "array([1724560,    5642,   46002,    4298,       0,  151586,   48150,\n",
       "         40262,     684])"
      ]
     },
     "execution_count": 26,
     "metadata": {},
     "output_type": "execute_result"
    }
   ],
   "source": [
    "filepath = r\"D:\\comp30\\Script\\patch_mask8\\label28\\image73.mha\"\n",
    "image=sitk.ReadImage(filepath)\n",
    "inputimagearray=sitk.GetArrayFromImage(image)\n",
    "\n",
    "x = inputimagearray.sum(0).sum(0).sum(0)\n",
    "x\n"
   ]
  },
  {
   "cell_type": "code",
   "execution_count": 55,
   "metadata": {},
   "outputs": [
    {
     "name": "stdout",
     "output_type": "stream",
     "text": [
      "[ 2.690096 18.121029  9.003299 19.841373       inf  6.050262  8.867376\n",
      "  9.412293 36.613552]\n",
      "[1.72456e+06 5.64200e+03 4.60020e+04 4.29800e+03 0.00000e+00 1.51586e+05\n",
      " 4.81500e+04 4.02620e+04 6.84000e+02]\n"
     ]
    }
   ],
   "source": [
    "array_tf = tf.convert_to_tensor(inputimagearray, dtype=tf.float32)\n",
    "\n",
    "result = tf.reduce_sum(array_tf,[0,1,2])\n",
    "'''result2 = tf.reduce_sum(inputimagearray.sum(0),0)\n",
    "result3 = tf.reduce_sum(result2,0)\n",
    "result_pow = tf.pow(result3,1.0/3)\n",
    "# Launch the graph in a session.\n",
    "sess = tf.Session()\n",
    "# Evaluate the tensor `c`.\n",
    "print(sess.run(result_pow))'''\n",
    "result_pow = tf.pow(result,1.0/3)\n",
    "weight_y = result_pow / tf.reduce_sum(result_pow)\n",
    "print(sess.run(1/weight_y))\n",
    "print(sess.run(result))"
   ]
  },
  {
   "cell_type": "code",
   "execution_count": 9,
   "metadata": {},
   "outputs": [
    {
     "data": {
      "text/plain": [
       "(116, 132, 132, 9)"
      ]
     },
     "execution_count": 9,
     "metadata": {},
     "output_type": "execute_result"
    }
   ],
   "source": [
    "inputimagearray.shape"
   ]
  }
 ],
 "metadata": {
  "kernelspec": {
   "display_name": "Python 3",
   "language": "python",
   "name": "python3"
  },
  "language_info": {
   "codemirror_mode": {
    "name": "ipython",
    "version": 3
   },
   "file_extension": ".py",
   "mimetype": "text/x-python",
   "name": "python",
   "nbconvert_exporter": "python",
   "pygments_lexer": "ipython3",
   "version": "3.6.7"
  }
 },
 "nbformat": 4,
 "nbformat_minor": 2
}
