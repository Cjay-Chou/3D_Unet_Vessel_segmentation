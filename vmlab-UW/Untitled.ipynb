{
 "cells": [
  {
   "cell_type": "code",
   "execution_count": 1,
   "metadata": {},
   "outputs": [
    {
     "name": "stderr",
     "output_type": "stream",
     "text": [
      "Using TensorFlow backend.\n"
     ]
    }
   ],
   "source": [
    "import sys\n",
    "import os\n",
    "import tensorflow as tf\n",
    "from itertools import product\n",
    "import numpy as np\n",
    "import yaml\n",
    "import SimpleITK as sitk\n",
    "from pathlib import Path\n",
    "from keras.utils import to_categorical\n",
    "import matplotlib.pyplot as plt"
   ]
  },
  {
   "cell_type": "code",
   "execution_count": 10,
   "metadata": {},
   "outputs": [
    {
     "name": "stdout",
     "output_type": "stream",
     "text": [
      "D:\\comp30\\RawData\\Training\\img\\img0001.nii\\ct.mha\n"
     ]
    },
    {
     "name": "stderr",
     "output_type": "stream",
     "text": [
      "c:\\users\\vmlab\\appdata\\local\\programs\\python\\python36\\lib\\site-packages\\ipykernel_launcher.py:6: VisibleDeprecationWarning: Passing `normed=True` on non-uniform bins has always been broken, and computes neither the probability density function nor the probability mass function. The result is only correct if the bins are uniform, when density=True will produce the same result anyway. The argument will be removed in a future version of numpy.\n",
      "  \n",
      "c:\\users\\vmlab\\appdata\\local\\programs\\python\\python36\\lib\\site-packages\\matplotlib\\axes\\_axes.py:6521: MatplotlibDeprecationWarning: \n",
      "The 'normed' kwarg was deprecated in Matplotlib 2.1 and will be removed in 3.1. Use 'density' instead.\n",
      "  alternative=\"'density'\", removal=\"3.1\")\n"
     ]
    },
    {
     "data": {
      "image/png": "[encoded data removed]",
      "text/plain": [
       "<Figure size 432x288 with 1 Axes>"
      ]
     },
     "metadata": {
      "needs_background": "light"
     },
     "output_type": "display_data"
    }
   ],
   "source": [
    "\n",
    "def histeq(data,nbr_bins = 2048):\n",
    "    \"\"\"对一幅灰度图像进行直方图均衡化\"\"\"\n",
    "    #计算图像的直方图\n",
    "    #在numpy中，也提供了一个计算直方图的函数histogram(),第一个返回的是直方图的统计量，第二个为每个bins的中间值\n",
    "    imhist,bins = np.histogram(data,nbr_bins,normed= True)\n",
    "    imhist=imhist#+0.75/2048\n",
    "\n",
    "    #print(\"bins:\",bins[:-1])\n",
    "    cdf = imhist.cumsum()   #\n",
    "\n",
    "    #print(\"cdf:\",cdf)\n",
    "    cdf = 2048.0 * cdf / cdf[-1]\n",
    "    #print(\"cdf:\",cdf)\n",
    "    #使用累积分布函数的线性插值，计算新的像素值\n",
    "    im2 = np.interp(data,bins[:-1],cdf)\n",
    "    return im2,cdf\n",
    "\n",
    "\n",
    "\n",
    "array_shape=[]\n",
    "array_path=[]\n",
    "array_originmax=[]\n",
    "array_originmin=[]\n",
    "array_histmax=[]\n",
    "array_histmin=[]\n",
    "\n",
    "i = 'img0001.nii'\n",
    "filepath=os.path.join(r\"D:\\comp30\\RawData\\Training\\img\",i)\n",
    "filepath=os.path.join(filepath,os.listdir(filepath)[0])\n",
    "print(filepath)\n",
    "\n",
    "image=sitk.ReadImage(filepath)    \n",
    "inputimagearray=sitk.GetArrayFromImage(image)\n",
    "'''\n",
    "labelarry=inputimagearray\n",
    "labelarry=labelarry.flatten()\n",
    "\n",
    "labelarry=labelarry+1024\n",
    "processed=[]\n",
    "cleanarrayindex=[]\n",
    "labelarry[labelarry < 1] = 0\n",
    "labelarry[labelarry > 2048] = 2048\n",
    "for index,elem in enumerate(labelarry):\n",
    "    if elem != 0 :\n",
    "        processed.append(elem)\n",
    "        cleanarrayindex.append(index)\n",
    "\n",
    "processed = np.array(processed,np.float32)\n",
    "print(processed)\n",
    "'''\n",
    "data2,cdf = histeq(processed)\n"
   ]
  },
  {
   "cell_type": "code",
   "execution_count": 12,
   "metadata": {
    "scrolled": true
   },
   "outputs": [
    {
     "name": "stdout",
     "output_type": "stream",
     "text": [
      "D:\\comp30\\RawData\\Training\\img\\img0001.nii\\ct.mha\n"
     ]
    },
    {
     "name": "stderr",
     "output_type": "stream",
     "text": [
      "c:\\users\\vmlab\\appdata\\local\\programs\\python\\python36\\lib\\site-packages\\ipykernel_launcher.py:5: VisibleDeprecationWarning: Passing `normed=True` on non-uniform bins has always been broken, and computes neither the probability density function nor the probability mass function. The result is only correct if the bins are uniform, when density=True will produce the same result anyway. The argument will be removed in a future version of numpy.\n",
      "  \"\"\"\n"
     ]
    },
    {
     "name": "stdout",
     "output_type": "stream",
     "text": [
      "[868.68150915 605.36595161 567.38804389 ... 460.84198627 177.93312366\n",
      "  63.04481915]\n"
     ]
    }
   ],
   "source": [
    "def histeq(data,nbr_bins = 2048):\n",
    "    \"\"\"对一幅灰度图像进行直方图均衡化\"\"\"\n",
    "    #计算图像的直方图\n",
    "    #在numpy中，也提供了一个计算直方图的函数histogram(),第一个返回的是直方图的统计量，第二个为每个bins的中间值\n",
    "    imhist,bins = np.histogram(data,nbr_bins,normed= True)\n",
    "    imhist=imhist#+0.75/2048\n",
    "\n",
    "    #print(\"bins:\",bins[:-1])\n",
    "    cdf = imhist.cumsum()   #\n",
    "    \n",
    "    #print(\"cdf:\",cdf)\n",
    "    cdf = 2048.0 * cdf / cdf[-1]\n",
    "    #print(\"cdf:\",cdf)\n",
    "    #使用累积分布函数的线性插值，计算新的像素值\n",
    "    im2 = np.interp(data,bins[:-1],cdf)\n",
    "    return im2,cdf\n",
    "\n",
    "\n",
    "i = 'img0001.nii'\n",
    "filepath=os.path.join(r\"D:\\comp30\\RawData\\Training\\img\",i)\n",
    "filepath=os.path.join(filepath,os.listdir(filepath)[0])\n",
    "print(filepath)\n",
    "\n",
    "image=sitk.ReadImage(filepath)    \n",
    "inputimagearray=sitk.GetArrayFromImage(image)\n",
    "\n",
    "array_path.append(i)\n",
    "array_shape.append(inputimagearray.shape)\n",
    "array_originmax.append(np.max(inputimagearray))\n",
    "array_originmin.append(np.min(inputimagearray))\n",
    "    \n",
    "    \n",
    "labelarry=inputimagearray\n",
    "labelarry=labelarry.flatten()\n",
    "\n",
    "labelarry=labelarry+1024\n",
    "\n",
    "processed=[]\n",
    "cleanarrayindex=[]\n",
    "labelarry[labelarry < 1] = 0\n",
    "labelarry[labelarry > 2048] = 2048\n",
    "for index,elem in enumerate(labelarry):\n",
    "    if elem != 0 :\n",
    "        processed.append(elem)\n",
    "        cleanarrayindex.append(index)\n",
    "\n",
    "\n",
    "data2,cdf = histeq(processed)\n",
    "\n",
    "print(data2)"
   ]
  },
  {
   "cell_type": "code",
   "execution_count": 12,
   "metadata": {
    "scrolled": false
   },
   "outputs": [
    {
     "data": {
      "text/plain": [
       "array([1724560,    5642,   46002,    4298,       0,  151586,   48150,\n",
       "         40262,     684])"
      ]
     },
     "execution_count": 12,
     "metadata": {},
     "output_type": "execute_result"
    }
   ],
   "source": [
    "filepath = r\"D:\\comp30\\Script\\patch_mask8\\label28\\image73.mha\"\n",
    "image=sitk.ReadImage(filepath)\n",
    "inputimagearray=sitk.GetArrayFromImage(image)\n",
    "inputimagearray.sum(0).sum(0).sum(0)"
   ]
  }
 ],
 "metadata": {
  "kernelspec": {
   "display_name": "Python 3",
   "language": "python",
   "name": "python3"
  },
  "language_info": {
   "codemirror_mode": {
    "name": "ipython",
    "version": 3
   },
   "file_extension": ".py",
   "mimetype": "text/x-python",
   "name": "python",
   "nbconvert_exporter": "python",
   "pygments_lexer": "ipython3",
   "version": "3.6.7"
  }
 },
 "nbformat": 4,
 "nbformat_minor": 2
}
